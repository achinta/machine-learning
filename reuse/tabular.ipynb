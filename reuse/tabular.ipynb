{
 "cells": [
  {
   "cell_type": "markdown",
   "metadata": {},
   "source": [
    "## Purpose\n",
    "\n",
    "Reusable steps in processing tabular data"
   ]
  },
  {
   "cell_type": "code",
   "execution_count": 10,
   "metadata": {},
   "outputs": [],
   "source": [
    "import pandas as pd\n",
    "import numpy as np\n",
    "import random\n",
    "from sklearn.base import TransformerMixin"
   ]
  },
  {
   "cell_type": "code",
   "execution_count": 5,
   "metadata": {},
   "outputs": [],
   "source": [
    "\"\"\"\n",
    "Check if the current code is running in a notebook\n",
    "From https://stackoverflow.com/questions/15411967/how-can-i-check-if-code-is-executed-in-the-ipython-notebook\n",
    "\"\"\"\n",
    "def isnotebook():\n",
    "    try:\n",
    "        shell = get_ipython().__class__.__name__\n",
    "        if shell == 'ZMQInteractiveShell':\n",
    "            return True   # Jupyter notebook or qtconsole\n",
    "        elif shell == 'TerminalInteractiveShell':\n",
    "            return False  # Terminal running IPython\n",
    "        else:\n",
    "            return False  # Other type (?)\n",
    "    except NameError:\n",
    "        return False      # Probably standard Python interpreter"
   ]
  },
  {
   "cell_type": "markdown",
   "metadata": {},
   "source": [
    "## Tabular Data"
   ]
  },
  {
   "cell_type": "code",
   "execution_count": 11,
   "metadata": {},
   "outputs": [],
   "source": [
    "def get_categorical_columns(df, ignore_cols=[]):\n",
    "    return [o for o in df.select_dtypes(include=['category','object']).columns if o not in ignore_cols]\n",
    "\n",
    "def get_numeric_columns(df, ignore_cols=[]):\n",
    "    return [o for o in df.select_dtypes(exclude=['category','object']).columns if o not in ignore_cols]\n"
   ]
  },
  {
   "cell_type": "markdown",
   "metadata": {},
   "source": [
    "### Transformations\n",
    "First create a sample dataframe \n",
    "\n",
    "Then we try to implement the following steps for categorical columns"
   ]
  },
  {
   "cell_type": "code",
   "execution_count": 12,
   "metadata": {},
   "outputs": [],
   "source": [
    "from sklearn.impute import SimpleImputer\n",
    "from sklearn.compose import ColumnTransformer\n",
    "from sklearn.preprocessing import RobustScaler, LabelEncoder, OrdinalEncoder\n",
    "from sklearn.pipeline import Pipeline\n",
    "\n",
    "df = pd.DataFrame({\n",
    "    'n1': [1,2,3,4,5,None],\n",
    "    'n2': [5,3,2,6,1,4],\n",
    "    'c1': ['a','a','b','a',np.nan,'b'],\n",
    "    'c2': ['x',np.nan,'y',np.nan,np.nan,'x']\n",
    "})\n",
    "\n",
    "cat_cols = get_categorical_columns(df)\n",
    "cont_cols = get_numeric_columns(df)\n",
    "\n",
    "# lets define a custom tranformation\n",
    "class SortData(TransformerMixin):\n",
    "    def __init__(self, cols=['lon', 'lat'], ascending=[1, 1]):\n",
    "        self.cols = cols\n",
    "        self.ascending = ascending\n",
    "\n",
    "    def fit(self, df, y=None):\n",
    "        return self\n",
    "\n",
    "    def transform(self, X, y=None):\n",
    "        return X.sort_values(by=self.cols, ascending=self.ascending)"
   ]
  },
  {
   "cell_type": "markdown",
   "metadata": {},
   "source": [
    "ColumnTransformer allows us to use different set of transformations for categorial cand continous columns. \n",
    "But, finally it returns a numpy array. To return a dataframe, here are the steps. \n",
    "\n",
    "https://towardsdatascience.com/using-columntransformer-to-combine-data-processing-steps-af383f7d5260\n",
    "https://stackoverflow.com/questions/68874492/preserve-column-order-after-applying-sklearn-compose-columntransformer"
   ]
  },
  {
   "cell_type": "code",
   "execution_count": 13,
   "metadata": {},
   "outputs": [
    {
     "data": {
      "text/html": [
       "<div>\n",
       "<style scoped>\n",
       "    .dataframe tbody tr th:only-of-type {\n",
       "        vertical-align: middle;\n",
       "    }\n",
       "\n",
       "    .dataframe tbody tr th {\n",
       "        vertical-align: top;\n",
       "    }\n",
       "\n",
       "    .dataframe thead th {\n",
       "        text-align: right;\n",
       "    }\n",
       "</style>\n",
       "<table border=\"1\" class=\"dataframe\">\n",
       "  <thead>\n",
       "    <tr style=\"text-align: right;\">\n",
       "      <th></th>\n",
       "      <th>c1</th>\n",
       "      <th>c2</th>\n",
       "      <th>n1</th>\n",
       "      <th>n2</th>\n",
       "    </tr>\n",
       "  </thead>\n",
       "  <tbody>\n",
       "    <tr>\n",
       "      <th>0</th>\n",
       "      <td>0.0</td>\n",
       "      <td>0.0</td>\n",
       "      <td>1.333333</td>\n",
       "      <td>-1.0</td>\n",
       "    </tr>\n",
       "    <tr>\n",
       "      <th>1</th>\n",
       "      <td>2.0</td>\n",
       "      <td>2.0</td>\n",
       "      <td>0.000000</td>\n",
       "      <td>-0.6</td>\n",
       "    </tr>\n",
       "    <tr>\n",
       "      <th>2</th>\n",
       "      <td>1.0</td>\n",
       "      <td>0.0</td>\n",
       "      <td>-0.666667</td>\n",
       "      <td>-0.2</td>\n",
       "    </tr>\n",
       "    <tr>\n",
       "      <th>3</th>\n",
       "      <td>2.0</td>\n",
       "      <td>1.0</td>\n",
       "      <td>0.000000</td>\n",
       "      <td>0.2</td>\n",
       "    </tr>\n",
       "    <tr>\n",
       "      <th>4</th>\n",
       "      <td>1.0</td>\n",
       "      <td>1.0</td>\n",
       "      <td>-1.333333</td>\n",
       "      <td>0.6</td>\n",
       "    </tr>\n",
       "    <tr>\n",
       "      <th>5</th>\n",
       "      <td>1.0</td>\n",
       "      <td>0.0</td>\n",
       "      <td>0.666667</td>\n",
       "      <td>1.0</td>\n",
       "    </tr>\n",
       "  </tbody>\n",
       "</table>\n",
       "</div>"
      ],
      "text/plain": [
       "    c1   c2        n1   n2\n",
       "0  0.0  0.0  1.333333 -1.0\n",
       "1  2.0  2.0  0.000000 -0.6\n",
       "2  1.0  0.0 -0.666667 -0.2\n",
       "3  2.0  1.0  0.000000  0.2\n",
       "4  1.0  1.0 -1.333333  0.6\n",
       "5  1.0  0.0  0.666667  1.0"
      ]
     },
     "execution_count": 13,
     "metadata": {},
     "output_type": "execute_result"
    }
   ],
   "source": [
    "# define pipeline for each column groups (to ensure the sequnce)\n",
    "cat_cols = get_categorical_columns(df)\n",
    "cont_cols = get_numeric_columns(df)\n",
    "\n",
    "cat_pipe = Pipeline([('imp_cat',SimpleImputer(strategy='constant', fill_value='-999')),\n",
    "                     ('encode_cat',OrdinalEncoder())])\n",
    "\n",
    "cont_pipe = Pipeline([('imp_cont', SimpleImputer(strategy='mean')),\n",
    "                      ('scaler', RobustScaler())])\n",
    "\n",
    "# Apply each pipline to the column groups\n",
    "col_trans = ColumnTransformer(\n",
    "    transformers=[\n",
    "        ('cats', cat_pipe, cat_cols),\n",
    "        ('conts', cont_pipe, cont_cols)],\n",
    "    remainder='passthrough',\n",
    "    verbose_feature_names_out=False\n",
    ")\n",
    "\n",
    "pipe = Pipeline([\n",
    "    ('sort', SortData(cols=['n2'], ascending=[1])),\n",
    "    ('column_trans', col_trans)\n",
    "])\n",
    "\n",
    "\n",
    "pd.DataFrame(pipe.fit_transform(df), columns=pipe[-1].get_feature_names_out())"
   ]
  },
  {
   "cell_type": "markdown",
   "metadata": {},
   "source": [
    "Note that `verbose_feature_names_out` is needed to avoid column prefixes for output of column transformations"
   ]
  },
  {
   "cell_type": "markdown",
   "metadata": {},
   "source": [
    "### Outliers\n",
    "remove outliers using percentiles"
   ]
  },
  {
   "cell_type": "code",
   "execution_count": 7,
   "metadata": {},
   "outputs": [],
   "source": [
    "x = pd.Series(list(np.random.rand(50)) + [2.0])\n",
    "upper_bound, lower_bound = np.percentile(x, [1,99])\n",
    "x_clipped = np.clip(x, upper_bound, lower_bound)"
   ]
  },
  {
   "cell_type": "markdown",
   "metadata": {},
   "source": [
    "### Scalers\n",
    "https://scikit-learn.org/stable/auto_examples/preprocessing/plot_all_scaling.html\n",
    "\n",
    "Which scaler to choose? - https://docs.google.com/spreadsheets/d/1woVi7wq13628HJ-tN6ApaRGVZ85OdmHsDBKLAf5ylaQ/edit#gid=0"
   ]
  },
  {
   "cell_type": "code",
   "execution_count": null,
   "metadata": {},
   "outputs": [],
   "source": []
  },
  {
   "cell_type": "code",
   "execution_count": null,
   "metadata": {},
   "outputs": [],
   "source": []
  }
 ],
 "metadata": {
  "kernelspec": {
   "display_name": "Python 3 (ipykernel)",
   "language": "python",
   "name": "python3"
  },
  "language_info": {
   "codemirror_mode": {
    "name": "ipython",
    "version": 3
   },
   "file_extension": ".py",
   "mimetype": "text/x-python",
   "name": "python",
   "nbconvert_exporter": "python",
   "pygments_lexer": "ipython3",
   "version": "3.9.12"
  }
 },
 "nbformat": 4,
 "nbformat_minor": 4
}
