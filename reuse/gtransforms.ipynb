{
 "cells": [
  {
   "cell_type": "markdown",
   "metadata": {},
   "source": [
    "## Purpose \n",
    "Transformations that can run on GPU"
   ]
  },
  {
   "cell_type": "code",
   "execution_count": 4,
   "metadata": {},
   "outputs": [],
   "source": [
    "from sklearn.base import TransformerMixin\n",
    "import cudf\n",
    "import pandas as pd\n",
    "import numpy as np\n",
    "from pathlib import Path\n",
    "import pickle\n",
    "from IPython.display import display\n",
    "\n",
    "assert cudf.__version__ == '0.14.0'\n",
    "\n",
    "class CuCategoryEncoder(TransformerMixin):\n",
    "    \"\"\"\n",
    "    Encodes categorical variables into integers. Runs on GPU using cudf.\n",
    "\n",
    "    Why? Once fit method is called, sklearn.preprocessing.LabelEncoder cannot encode new categories.\n",
    "    In this category encoder, fit can be called any number times. It encodes categories which it has not seen before,\n",
    "    without changing the encoding of existing categories.\n",
    "    \"\"\"\n",
    "    # categories as series\n",
    "    cats = {}\n",
    "\n",
    "    def __init__(self, cols, encodings_path='encodings.pkl', auto_fit=False, share_cats=False):\n",
    "        \"\"\"\n",
    "\n",
    "        :param cols: List of columns to be encoded\n",
    "        :param encodings_path: Load and save encodings from this path, if not none\n",
    "        :param auto_fit: Fit is called before every transform. So we can handle previously unseen values\n",
    "        :param share_cats: Use the same mapping across cols. So a category will get encoded to same value across columns\n",
    "        \"\"\"\n",
    "        assert type(cols) == list\n",
    "        self.cols = cols\n",
    "        self.auto_fit = auto_fit\n",
    "        self.share_cats = share_cats\n",
    "        self.encodings_path = encodings_path\n",
    "        if self.encodings_path and Path(self.encodings_path).is_file():\n",
    "            with open(self.encodings_path, 'rb') as f:\n",
    "                self.cats = pickle.load(f)\n",
    "\n",
    "    def fit(self, df):\n",
    "        for col in self.cols:\n",
    "\n",
    "            # set the key for the category df\n",
    "            if self.share_cats:\n",
    "                cat_key = 'shared'\n",
    "            else:\n",
    "                cat_key = col\n",
    "\n",
    "            # use the right datatype\n",
    "            dtype = df[col].dtype\n",
    "            if self.cats.get(cat_key) is None:\n",
    "                self.cats[cat_key] = cudf.DataFrame({'cats': []}, dtype=dtype)\n",
    "\n",
    "                # join values with categories and filter out the matches\n",
    "            joined = df.merge(self.cats[cat_key], left_on=col, right_on='cats', how='left')\n",
    "            new_cats = cudf.DataFrame({'cats': joined[joined.cats.isnull()][col].unique()})\n",
    "\n",
    "            # append new cats to exiting cats\n",
    "            self.cats[cat_key] = cudf.concat([self.cats[cat_key], new_cats], ignore_index=True)\n",
    "            if self.encodings_path:\n",
    "                with open(self.encodings_path, 'wb') as f:\n",
    "                    pickle.dump(self.cats, f)\n",
    "        return self\n",
    "\n",
    "    def transform(self, df):\n",
    "        if self.auto_fit:\n",
    "            self.fit(df)\n",
    "\n",
    "        for col in self.cols:\n",
    "            # set the key for the category df\n",
    "            if self.share_cats:\n",
    "                cat_key = 'shared'\n",
    "            else:\n",
    "                cat_key = col\n",
    "\n",
    "            df = df.merge(self.cats[cat_key].reset_index(), left_on=col, right_on='cats', how='left') \\\n",
    "                .drop([col, 'cats'], axis=1).rename(columns={'index': col})\n",
    "        return df\n",
    "\n",
    "    def inverse_transform(self, df):\n",
    "        for col in self.cols:\n",
    "            # set the key for the category df\n",
    "            if self.share_cats:\n",
    "                cat_key = 'shared'\n",
    "            else:\n",
    "                cat_key = col\n",
    "\n",
    "            df = df.merge(self.cats[cat_key].reset_index(), how='left', left_on=col, right_on='index') \\\n",
    "                .drop(['index', col]).rename(columns={'cats': col})\n",
    "        return df"
   ]
  },
  {
   "cell_type": "markdown",
   "metadata": {},
   "source": [
    "\n",
    "#### Testing it"
   ]
  },
  {
   "cell_type": "code",
   "execution_count": 5,
   "metadata": {},
   "outputs": [
    {
     "data": {
      "text/html": [
       "<div>\n",
       "<style scoped>\n",
       "    .dataframe tbody tr th:only-of-type {\n",
       "        vertical-align: middle;\n",
       "    }\n",
       "\n",
       "    .dataframe tbody tr th {\n",
       "        vertical-align: top;\n",
       "    }\n",
       "\n",
       "    .dataframe thead th {\n",
       "        text-align: right;\n",
       "    }\n",
       "</style>\n",
       "<table border=\"1\" class=\"dataframe\">\n",
       "  <thead>\n",
       "    <tr style=\"text-align: right;\">\n",
       "      <th></th>\n",
       "      <th>sa</th>\n",
       "      <th>da</th>\n",
       "    </tr>\n",
       "  </thead>\n",
       "  <tbody>\n",
       "    <tr>\n",
       "      <th>0</th>\n",
       "      <td>9</td>\n",
       "      <td>10</td>\n",
       "    </tr>\n",
       "    <tr>\n",
       "      <th>1</th>\n",
       "      <td>4</td>\n",
       "      <td>12</td>\n",
       "    </tr>\n",
       "  </tbody>\n",
       "</table>\n",
       "</div>"
      ],
      "text/plain": [
       "   sa  da\n",
       "0   9  10\n",
       "1   4  12"
      ]
     },
     "metadata": {},
     "output_type": "display_data"
    },
    {
     "name": "stdout",
     "output_type": "stream",
     "text": [
      "encoded categories:\n"
     ]
    },
    {
     "data": {
      "text/html": [
       "<div>\n",
       "<style scoped>\n",
       "    .dataframe tbody tr th:only-of-type {\n",
       "        vertical-align: middle;\n",
       "    }\n",
       "\n",
       "    .dataframe tbody tr th {\n",
       "        vertical-align: top;\n",
       "    }\n",
       "\n",
       "    .dataframe thead th {\n",
       "        text-align: right;\n",
       "    }\n",
       "</style>\n",
       "<table border=\"1\" class=\"dataframe\">\n",
       "  <thead>\n",
       "    <tr style=\"text-align: right;\">\n",
       "      <th></th>\n",
       "      <th>cats</th>\n",
       "    </tr>\n",
       "  </thead>\n",
       "  <tbody>\n",
       "    <tr>\n",
       "      <th>0</th>\n",
       "      <td>4</td>\n",
       "    </tr>\n",
       "    <tr>\n",
       "      <th>1</th>\n",
       "      <td>9</td>\n",
       "    </tr>\n",
       "    <tr>\n",
       "      <th>2</th>\n",
       "      <td>10</td>\n",
       "    </tr>\n",
       "    <tr>\n",
       "      <th>3</th>\n",
       "      <td>12</td>\n",
       "    </tr>\n",
       "  </tbody>\n",
       "</table>\n",
       "</div>"
      ],
      "text/plain": [
       "   cats\n",
       "0     4\n",
       "1     9\n",
       "2    10\n",
       "3    12"
      ]
     },
     "metadata": {},
     "output_type": "display_data"
    },
    {
     "name": "stdout",
     "output_type": "stream",
     "text": [
      "\n",
      "transformed:\n"
     ]
    },
    {
     "data": {
      "text/html": [
       "<div>\n",
       "<style scoped>\n",
       "    .dataframe tbody tr th:only-of-type {\n",
       "        vertical-align: middle;\n",
       "    }\n",
       "\n",
       "    .dataframe tbody tr th {\n",
       "        vertical-align: top;\n",
       "    }\n",
       "\n",
       "    .dataframe thead th {\n",
       "        text-align: right;\n",
       "    }\n",
       "</style>\n",
       "<table border=\"1\" class=\"dataframe\">\n",
       "  <thead>\n",
       "    <tr style=\"text-align: right;\">\n",
       "      <th></th>\n",
       "      <th>sa</th>\n",
       "      <th>da</th>\n",
       "    </tr>\n",
       "  </thead>\n",
       "  <tbody>\n",
       "    <tr>\n",
       "      <th>0</th>\n",
       "      <td>1</td>\n",
       "      <td>2</td>\n",
       "    </tr>\n",
       "    <tr>\n",
       "      <th>1</th>\n",
       "      <td>0</td>\n",
       "      <td>3</td>\n",
       "    </tr>\n",
       "  </tbody>\n",
       "</table>\n",
       "</div>"
      ],
      "text/plain": [
       "   sa  da\n",
       "0   1   2\n",
       "1   0   3"
      ]
     },
     "metadata": {},
     "output_type": "display_data"
    },
    {
     "name": "stdout",
     "output_type": "stream",
     "text": [
      "\n",
      "inv-transform:\n"
     ]
    },
    {
     "data": {
      "text/html": [
       "<div>\n",
       "<style scoped>\n",
       "    .dataframe tbody tr th:only-of-type {\n",
       "        vertical-align: middle;\n",
       "    }\n",
       "\n",
       "    .dataframe tbody tr th {\n",
       "        vertical-align: top;\n",
       "    }\n",
       "\n",
       "    .dataframe thead th {\n",
       "        text-align: right;\n",
       "    }\n",
       "</style>\n",
       "<table border=\"1\" class=\"dataframe\">\n",
       "  <thead>\n",
       "    <tr style=\"text-align: right;\">\n",
       "      <th></th>\n",
       "      <th>sa</th>\n",
       "      <th>da</th>\n",
       "    </tr>\n",
       "  </thead>\n",
       "  <tbody>\n",
       "    <tr>\n",
       "      <th>0</th>\n",
       "      <td>9</td>\n",
       "      <td>10</td>\n",
       "    </tr>\n",
       "    <tr>\n",
       "      <th>1</th>\n",
       "      <td>4</td>\n",
       "      <td>12</td>\n",
       "    </tr>\n",
       "  </tbody>\n",
       "</table>\n",
       "</div>"
      ],
      "text/plain": [
       "   sa  da\n",
       "0   9  10\n",
       "1   4  12"
      ]
     },
     "metadata": {},
     "output_type": "display_data"
    }
   ],
   "source": [
    "# Testing it\n",
    "pdf = pd.DataFrame({\n",
    "    'sa': np.random.randint(1,10,2),\n",
    "    'da': np.random.randint(10,20,2)\n",
    "})\n",
    "df = cudf.from_pandas(pdf)\n",
    "encoder = CuCategoryEncoder(['sa','da'],auto_fit=True, share_cats=True)\n",
    "\n",
    "# keep repeating the following lines\n",
    "encoder.fit(df)\n",
    "# print(f'df:\\n ', df.head())\n",
    "display(df)\n",
    "print(f'encoded categories:')\n",
    "display(encoder.cats['shared'])\n",
    "transformed = encoder.transform(df)\n",
    "print(f'\\ntransformed:')\n",
    "display(transformed.head())\n",
    "print(f'\\ninv-transform:')\n",
    "display(encoder.inverse_transform(transformed))"
   ]
  },
  {
   "cell_type": "markdown",
   "metadata": {},
   "source": [
    "### Playground"
   ]
  },
  {
   "cell_type": "code",
   "execution_count": null,
   "metadata": {},
   "outputs": [],
   "source": [
    "import cugraph"
   ]
  },
  {
   "cell_type": "code",
   "execution_count": 3,
   "metadata": {},
   "outputs": [],
   "source": [
    "!rm encodings.pkl"
   ]
  },
  {
   "cell_type": "code",
   "execution_count": null,
   "metadata": {},
   "outputs": [],
   "source": []
  }
 ],
 "metadata": {
  "kernelspec": {
   "display_name": "Python 3",
   "language": "python",
   "name": "python3"
  },
  "language_info": {
   "codemirror_mode": {
    "name": "ipython",
    "version": 3
   },
   "file_extension": ".py",
   "mimetype": "text/x-python",
   "name": "python",
   "nbconvert_exporter": "python",
   "pygments_lexer": "ipython3",
   "version": "3.7.7"
  },
  "toc": {
   "base_numbering": 1,
   "nav_menu": {},
   "number_sections": true,
   "sideBar": true,
   "skip_h1_title": false,
   "title_cell": "Table of Contents",
   "title_sidebar": "Contents",
   "toc_cell": false,
   "toc_position": {},
   "toc_section_display": true,
   "toc_window_display": false
  }
 },
 "nbformat": 4,
 "nbformat_minor": 4
}
