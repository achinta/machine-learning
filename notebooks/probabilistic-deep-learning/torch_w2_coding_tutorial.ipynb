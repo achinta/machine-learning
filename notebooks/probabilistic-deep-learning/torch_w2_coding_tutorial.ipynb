{
 "cells": [
  {
   "cell_type": "code",
   "execution_count": 35,
   "metadata": {},
   "outputs": [],
   "source": [
    "import torch\n",
    "import torch.nn as nn\n",
    "import torch.nn.functional as F\n",
    "import torch.distributions as dist\n",
    "from torch.utils.data import TensorDataset, DataLoader\n",
    "import pytorch_lightning as pl\n",
    "import numpy as np\n",
    "\n",
    "import seaborn as sns\n",
    "import matplotlib.pyplot as plt"
   ]
  },
  {
   "cell_type": "code",
   "execution_count": 23,
   "metadata": {},
   "outputs": [],
   "source": [
    "x = torch.linspace(-5, 5, 1000)\n",
    "\n",
    "class LinBin(pl.LightningModule):\n",
    "    def __init__(self, init_weight, init_bias, learning_rate=0.001):\n",
    "        super().__init__()\n",
    "        self.save_hyperparameters()\n",
    "        \n",
    "        self.model = nn.Sequential(\n",
    "            nn.Linear(1, 1),\n",
    "            nn.Sigmoid()\n",
    "        )\n",
    "        \n",
    "        # initialize parameters\n",
    "        nn.init.constant_(self.model[0].weight, self.hparams.init_weight)\n",
    "        nn.init.constant_(self.model[0].bias, self.hparams.init_bias)\n",
    "        \n",
    "    def forward(self, x):\n",
    "        return dist.Bernoulli(self.model(x).squeeze())\n",
    "    \n",
    "model = LinBin(1, 0)\n",
    "y_dist = model(x.unsqueeze(1))"
   ]
  },
  {
   "cell_type": "code",
   "execution_count": 19,
   "metadata": {},
   "outputs": [
    {
     "data": {
      "text/plain": [
       "<AxesSubplot:>"
      ]
     },
     "execution_count": 19,
     "metadata": {},
     "output_type": "execute_result"
    },
    {
     "data": {
      "image/png": "[encoded data removed]",
      "text/plain": [
       "<Figure size 576x288 with 1 Axes>"
      ]
     },
     "metadata": {
      "needs_background": "light"
     },
     "output_type": "display_data"
    }
   ],
   "source": [
    "fig, ax = plt.subplots(figsize=(8,4))\n",
    "sns.scatterplot(x=x, y=y_dist.sample(), alpha=0.4, label='Bernouli Samples')\n",
    "sns.lineplot(x=x, y=(1/(1+torch.exp(-x))), color='red', alpha=0.8, label='sigmoid')"
   ]
  },
  {
   "cell_type": "code",
   "execution_count": 26,
   "metadata": {},
   "outputs": [
    {
     "data": {
      "text/plain": [
       "Bernoulli(probs: 0.5)"
      ]
     },
     "execution_count": 26,
     "metadata": {},
     "output_type": "execute_result"
    }
   ],
   "source": [
    "# create a constant input for this model\n",
    "x = torch.tensor([[0.0]])\n",
    "y_dist = model(x)\n",
    "y_dist"
   ]
  },
  {
   "cell_type": "code",
   "execution_count": 27,
   "metadata": {},
   "outputs": [
    {
     "name": "stdout",
     "output_type": "stream",
     "text": [
      "tensor(0.)\n",
      "tensor(1.)\n",
      "tensor(0.)\n",
      "tensor(1.)\n",
      "tensor(1.)\n"
     ]
    }
   ],
   "source": [
    "# take samples from the Bernoulli\n",
    "for _ in range(5):\n",
    "    print(y_dist.sample())"
   ]
  },
  {
   "cell_type": "markdown",
   "metadata": {},
   "source": [
    "### Probabilistic model with wrong weights\n",
    "Given the samples, will try to learn the weights of the NN that produced these samples"
   ]
  },
  {
   "cell_type": "code",
   "execution_count": 55,
   "metadata": {},
   "outputs": [
    {
     "name": "stderr",
     "output_type": "stream",
     "text": [
      "GPU available: True, used: False\n",
      "TPU available: False, using: 0 TPU cores\n",
      "/home/achinta/miniconda3/envs/cudf15/lib/python3.7/site-packages/pytorch_lightning/utilities/distributed.py:45: UserWarning: GPU available but not used. Set the --gpus flag when calling the script.\n",
      "  warnings.warn(*args, **kwargs)\n",
      "\n",
      "  | Name  | Type       | Params\n",
      "-------------------------------------\n",
      "0 | model | Sequential | 2     \n",
      "/home/achinta/miniconda3/envs/cudf15/lib/python3.7/site-packages/pytorch_lightning/utilities/distributed.py:45: UserWarning: The dataloader, train dataloader, does not have many workers which may be a bottleneck. Consider increasing the value of the `num_workers` argument` (try 80 which is the number of cpus on this machine) in the `DataLoader` init to improve performance.\n",
      "  warnings.warn(*args, **kwargs)\n"
     ]
    },
    {
     "data": {
      "application/vnd.jupyter.widget-view+json": {
       "model_id": "7e730645eda44682b558b55d9009c518",
       "version_major": 2,
       "version_minor": 0
      },
      "text/plain": [
       "HBox(children=(FloatProgress(value=1.0, bar_style='info', description='Training', layout=Layout(flex='2'), max…"
      ]
     },
     "metadata": {},
     "output_type": "display_data"
    },
    {
     "name": "stdout",
     "output_type": "stream",
     "text": [
      "\n"
     ]
    },
    {
     "data": {
      "text/plain": [
       "1"
      ]
     },
     "execution_count": 55,
     "metadata": {},
     "output_type": "execute_result"
    }
   ],
   "source": [
    "def nll(y, y_dist):\n",
    "    return -y_dist.log_prob(y)\n",
    "\n",
    "class LinBern2(pl.LightningModule):\n",
    "    def __init__(self, init_weight, init_bias, learning_rate=0.001):\n",
    "        super().__init__()\n",
    "        self.save_hyperparameters()\n",
    "        \n",
    "        self.model = nn.Sequential(\n",
    "            nn.Linear(1, 1),\n",
    "            nn.Sigmoid()\n",
    "        )\n",
    "        \n",
    "        # initialize parameters\n",
    "        nn.init.constant_(self.model[0].weight, self.hparams.init_weight)\n",
    "        nn.init.constant_(self.model[0].bias, self.hparams.init_bias)\n",
    "        \n",
    "        # store weights\n",
    "        self.trainable_weights = []\n",
    "        self.trainable_biases = []\n",
    "        self.losses = []\n",
    "        \n",
    "    def forward(self, x):\n",
    "        out = self.model(x)\n",
    "#         print(f'out.shape - {out.shape}')\n",
    "        return dist.Bernoulli(out.squeeze())\n",
    "    \n",
    "    def training_step(self, batch, batch_idx):\n",
    "        x, y = batch\n",
    "        y_dist = self.forward(x)\n",
    "        loss = nll(y, y_dist).sum()\n",
    "        self.trainable_weights.append(self.model[0].weight.item())\n",
    "        self.trainable_biases.append(self.model[0].bias.item())\n",
    "        self.losses.append(loss)\n",
    "        self.log('loss', loss)\n",
    "        return loss\n",
    "    \n",
    "    def train_dataloader(self):\n",
    "        return dl\n",
    "    \n",
    "    def configure_optimizers(self):\n",
    "        return torch.optim.Adam(self.parameters(), lr=self.hparams.learning_rate)\n",
    "    \n",
    "# create y by sampling from the output prob dist of model with right weights\n",
    "x = torch.linspace(-5, 5, 1000)\n",
    "y = model(x.unsqueeze(1)).sample()\n",
    "ds = TensorDataset(x.unsqueeze(1), y)\n",
    "dl = DataLoader(ds, batch_size=500)\n",
    "\n",
    "model2 = LinBern2(2,2, learning_rate=0.01)\n",
    "trainer = pl.Trainer(max_epochs=300)\n",
    "trainer.fit(model2) "
   ]
  },
  {
   "cell_type": "code",
   "execution_count": 62,
   "metadata": {},
   "outputs": [
    {
     "data": {
      "text/plain": [
       "<matplotlib.lines.Line2D at 0x7ff618e94e10>"
      ]
     },
     "execution_count": 62,
     "metadata": {},
     "output_type": "execute_result"
    },
    {
     "data": {
      "image/png": "[encoded data removed]",
      "text/plain": [
       "<Figure size 576x288 with 1 Axes>"
      ]
     },
     "metadata": {
      "needs_background": "light"
     },
     "output_type": "display_data"
    }
   ],
   "source": [
    "fig, ax = plt.subplots(figsize=(8,4))\n",
    "num_points = model2.trainable_weights\n",
    "sns.lineplot(x=range(len(num_points)), y=model2.trainable_weights, label='weight', ax=ax)\n",
    "sns.lineplot(x=range(len(num_points)), y=model2.trainable_biases, label='bias', ax=ax)\n",
    "ax.axhline(0.0, ls='--')\n",
    "ax.axhline(1.0, ls=':')"
   ]
  },
  {
   "cell_type": "code",
   "execution_count": 57,
   "metadata": {},
   "outputs": [
    {
     "data": {
      "text/plain": [
       "[Parameter containing:\n",
       " tensor([[1.0871]], requires_grad=True),\n",
       " Parameter containing:\n",
       " tensor([-0.0987], requires_grad=True)]"
      ]
     },
     "execution_count": 57,
     "metadata": {},
     "output_type": "execute_result"
    }
   ],
   "source": [
    "[o for o in model2.parameters()]"
   ]
  },
  {
   "cell_type": "code",
   "execution_count": null,
   "metadata": {},
   "outputs": [],
   "source": []
  }
 ],
 "metadata": {
  "kernelspec": {
   "display_name": "Python 3",
   "language": "python",
   "name": "python3"
  },
  "language_info": {
   "codemirror_mode": {
    "name": "ipython",
    "version": 3
   },
   "file_extension": ".py",
   "mimetype": "text/x-python",
   "name": "python",
   "nbconvert_exporter": "python",
   "pygments_lexer": "ipython3",
   "version": "3.7.9"
  }
 },
 "nbformat": 4,
 "nbformat_minor": 4
}
