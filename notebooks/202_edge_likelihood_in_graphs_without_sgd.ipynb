{
 "cells": [
  {
   "cell_type": "markdown",
   "metadata": {},
   "source": [
    "## Purpose\n",
    "We want to estimate the likelihood edges occuring in time slice (say a minute) between two nodes in a graph. One way is to do randomly initialize the node vectors and assume that the dot product of the node vectors is proportional to the likelihood. Then we use SGD to maximise the likelihood of the true samples in the training graph. Nodes that have edges between them will be mapped to similar regions in the vector space. We are still ignoring the temporal aspect here. \n",
    "\n",
    "However if the graph is very large, SGD may be too slow and may require a lot of time and compute. Can we try any analytical way to estimate this likelihood? What we are interested is low likelihood edges within a time slice which could represent anamolies. \n",
    "\n",
    "## Approach\n",
    "Lets try to arrive at a `score` which will indicate the likelihood of the edge given the historical graph data. \n",
    "\n",
    "Lets use the historical data to simply compute the number of edges between two nodes or a grouping of nodes (if we want to reduce the number nodes)"
   ]
  },
  {
   "cell_type": "code",
   "execution_count": 19,
   "metadata": {},
   "outputs": [
    {
     "data": {
      "text/html": [
       "<div>\n",
       "<style scoped>\n",
       "    .dataframe tbody tr th:only-of-type {\n",
       "        vertical-align: middle;\n",
       "    }\n",
       "\n",
       "    .dataframe tbody tr th {\n",
       "        vertical-align: top;\n",
       "    }\n",
       "\n",
       "    .dataframe thead th {\n",
       "        text-align: right;\n",
       "    }\n",
       "</style>\n",
       "<table border=\"1\" class=\"dataframe\">\n",
       "  <thead>\n",
       "    <tr style=\"text-align: right;\">\n",
       "      <th></th>\n",
       "      <th>src</th>\n",
       "      <th>dst</th>\n",
       "      <th>hist_count</th>\n",
       "    </tr>\n",
       "  </thead>\n",
       "  <tbody>\n",
       "    <tr>\n",
       "      <th>0</th>\n",
       "      <td>n1</td>\n",
       "      <td>n0</td>\n",
       "      <td>40</td>\n",
       "    </tr>\n",
       "    <tr>\n",
       "      <th>1</th>\n",
       "      <td>n2</td>\n",
       "      <td>n0</td>\n",
       "      <td>50</td>\n",
       "    </tr>\n",
       "    <tr>\n",
       "      <th>2</th>\n",
       "      <td>n3</td>\n",
       "      <td>n0</td>\n",
       "      <td>10</td>\n",
       "    </tr>\n",
       "    <tr>\n",
       "      <th>3</th>\n",
       "      <td>n101</td>\n",
       "      <td>n0</td>\n",
       "      <td>2</td>\n",
       "    </tr>\n",
       "    <tr>\n",
       "      <th>4</th>\n",
       "      <td>n102</td>\n",
       "      <td>n0</td>\n",
       "      <td>1</td>\n",
       "    </tr>\n",
       "  </tbody>\n",
       "</table>\n",
       "</div>"
      ],
      "text/plain": [
       "    src dst  hist_count\n",
       "0    n1  n0          40\n",
       "1    n2  n0          50\n",
       "2    n3  n0          10\n",
       "3  n101  n0           2\n",
       "4  n102  n0           1"
      ]
     },
     "execution_count": 19,
     "metadata": {},
     "output_type": "execute_result"
    }
   ],
   "source": [
    "import pandas as pd\n",
    "import numpy as np\n",
    "import scipy\n",
    "\n",
    "from matplotlib import pyplot as plt\n",
    "import seaborn as sns\n",
    "\n",
    "edge_count = pd.DataFrame({\n",
    "    'src': ['n1', 'n2', 'n3', 'n101', 'n102'],\n",
    "    'dst': ['n0', 'n0', 'n0', 'n0', 'n0'],\n",
    "    'hist_count': [40, 50, 10, 2, 1]\n",
    "})\n",
    "edge_count.head()"
   ]
  },
  {
   "cell_type": "markdown",
   "metadata": {},
   "source": [
    "So when we detect an edge in the test data between nodes with low `hist_count` in the training data, we want the `score` to be high. We need a some kind of weighting function learnt from the training which we can apply to the test data. \n",
    "\n",
    "A linear weighting function is not of much help as we want to point out the anamolies more prominantly. We want much higher weights for the low frequency edges and lower weights for the high frequency ones. \n",
    "\n",
    "We also want a normalized score, so that it can be used across low degree nodes and high degree nodes without any changes. In other words, we are looking to convert the edge counts in to probability distribution for each dst node. \n",
    "\n",
    "### Softmax\n",
    "Softmax converts samples into a probility distribution, as $e^x$ is always positive and sum of outputs will equal to 1. "
   ]
  },
  {
   "cell_type": "code",
   "execution_count": 58,
   "metadata": {},
   "outputs": [
    {
     "data": {
      "text/plain": [
       "<matplotlib.axes._subplots.AxesSubplot at 0x7ffda33c4da0>"
      ]
     },
     "execution_count": 58,
     "metadata": {},
     "output_type": "execute_result"
    },
    {
     "data": {
      "image/png": "[encoded data removed]",
      "text/plain": [
       "<Figure size 576x288 with 1 Axes>"
      ]
     },
     "metadata": {},
     "output_type": "display_data"
    }
   ],
   "source": [
    "x = sorted(np.random.randint(0, 10, size=10))\n",
    "# y_scipy = scipy.special.softmax(x)\n",
    "\n",
    "# lets calculate y without scipy\n",
    "sum_exp = np.sum(np.exp(x))\n",
    "y = np.exp(x)/sum_exp\n",
    "\n",
    "fig, ax = plt.subplots(figsize=(8,4))\n",
    "sns.scatterplot(range(len(x)), x, ax=ax, label='x')\n",
    "sns.scatterplot(range(len(x)), y*10, ax=ax, label='weight')\n",
    "# sns.scatterplot(range(len(x)), y_scipy, ax=ax)"
   ]
  },
  {
   "cell_type": "markdown",
   "metadata": {},
   "source": [
    "But softmax amplifies the value of the higher valued outputs relative to others. What we want is the opposite of that. \n",
    "\n",
    "So lets try to use the opposite of softmax"
   ]
  },
  {
   "cell_type": "code",
   "execution_count": 69,
   "metadata": {},
   "outputs": [
    {
     "data": {
      "text/plain": [
       "<matplotlib.axes._subplots.AxesSubplot at 0x7ffda358e6a0>"
      ]
     },
     "execution_count": 69,
     "metadata": {},
     "output_type": "execute_result"
    },
    {
     "data": {
      "image/png": "[encoded data removed]",
      "text/plain": [
       "<Figure size 576x288 with 1 Axes>"
      ]
     },
     "metadata": {},
     "output_type": "display_data"
    }
   ],
   "source": [
    "x = np.sort(np.random.randint(0, 10, size=10))\n",
    "\n",
    "# for smoothing\n",
    "x += 1\n",
    "\n",
    "s = np.sum(np.exp(x * -1))\n",
    "y = np.exp(x * -1)/s\n",
    "\n",
    "\n",
    "# y = np.exp(x * -1)/sum_exp\n",
    "\n",
    "fig, ax = plt.subplots(figsize=(8,4))\n",
    "sns.scatterplot(range(len(x)), x, ax=ax, label='x')\n",
    "sns.scatterplot(range(len(x)), y * 10, ax=ax, label='weight')"
   ]
  },
  {
   "cell_type": "markdown",
   "metadata": {},
   "source": [
    "That looks better as the frequency edges get a high weight "
   ]
  },
  {
   "cell_type": "markdown",
   "metadata": {},
   "source": [
    "### Apply"
   ]
  },
  {
   "cell_type": "markdown",
   "metadata": {},
   "source": [
    "Lets learn the weights from our initial training graph"
   ]
  },
  {
   "cell_type": "code",
   "execution_count": 74,
   "metadata": {},
   "outputs": [
    {
     "data": {
      "text/plain": [
       "{'n1': 8.441666744174323e-18,\n",
       " 'n2': 3.8325107726381843e-22,\n",
       " 'n3': 9.021165708731927e-05,\n",
       " 'n101': 0.26891715971871394,\n",
       " 'n102': 0.7309926286241988}"
      ]
     },
     "execution_count": 74,
     "metadata": {},
     "output_type": "execute_result"
    }
   ],
   "source": [
    "def weight_func(n):\n",
    "    return np.exp(n * -1)\n",
    "    \n",
    "s = np.sum(weight_func(edge_count.hist_count))\n",
    "weight_dict = {edge_count.iloc[idx]['src']: weight_func(edge_count.iloc[idx]['hist_count'])/s for idx in range(edge_count.shape[0])}\n",
    "weight_dict"
   ]
  },
  {
   "cell_type": "code",
   "execution_count": 84,
   "metadata": {},
   "outputs": [],
   "source": [
    "# node, edge_count during the test time slice\n",
    "test_dict = {\n",
    "    'n1': 10,\n",
    "    'n20': 3,\n",
    "    'n101': 4\n",
    "}\n"
   ]
  },
  {
   "cell_type": "code",
   "execution_count": 87,
   "metadata": {},
   "outputs": [
    {
     "data": {
      "text/plain": [
       "1.9870439791266707"
      ]
     },
     "execution_count": 87,
     "metadata": {},
     "output_type": "execute_result"
    }
   ],
   "source": [
    "weight_func(0)/s"
   ]
  },
  {
   "cell_type": "code",
   "execution_count": 86,
   "metadata": {},
   "outputs": [
    {
     "data": {
      "text/plain": [
       "0.36787944117144233"
      ]
     },
     "execution_count": 86,
     "metadata": {},
     "output_type": "execute_result"
    }
   ],
   "source": [
    "weight_func(1)"
   ]
  },
  {
   "cell_type": "code",
   "execution_count": 89,
   "metadata": {},
   "outputs": [
    {
     "data": {
      "text/plain": [
       "[8.441666744174323e-17, 5.961131937380012, 1.0756686388748558]"
      ]
     },
     "execution_count": 89,
     "metadata": {},
     "output_type": "execute_result"
    }
   ],
   "source": [
    "test_scores = [c * weight_dict.get(n, weight_func(0)/s) for n, c in test_dict.items()]\n",
    "test_scores"
   ]
  },
  {
   "cell_type": "code",
   "execution_count": 91,
   "metadata": {},
   "outputs": [
    {
     "data": {
      "text/plain": [
       "7.036800576254867"
      ]
     },
     "execution_count": 91,
     "metadata": {},
     "output_type": "execute_result"
    }
   ],
   "source": [
    "total_score = sum(test_scores)\n",
    "total_score"
   ]
  },
  {
   "cell_type": "code",
   "execution_count": null,
   "metadata": {},
   "outputs": [],
   "source": []
  }
 ],
 "metadata": {
  "kernelspec": {
   "display_name": "Python 3",
   "language": "python",
   "name": "python3"
  },
  "language_info": {
   "codemirror_mode": {
    "name": "ipython",
    "version": 3
   },
   "file_extension": ".py",
   "mimetype": "text/x-python",
   "name": "python",
   "nbconvert_exporter": "python",
   "pygments_lexer": "ipython3",
   "version": "3.6.8"
  }
 },
 "nbformat": 4,
 "nbformat_minor": 2
}
