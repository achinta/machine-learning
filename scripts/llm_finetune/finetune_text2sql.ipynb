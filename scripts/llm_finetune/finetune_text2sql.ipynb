{
 "cells": [
  {
   "cell_type": "markdown",
   "metadata": {},
   "source": [
    "### Finetuning text2sql\n",
    "References\n",
    "    - https://www.analyticsvidhya.com/blog/2024/02/sql-generation-in-text2sql-with-tinyllamas-llm-fine-tuning/\n",
    "    - https://huggingface.co/docs/trl/en/sft_trainer"
   ]
  },
  {
   "cell_type": "code",
   "execution_count": null,
   "metadata": {},
   "outputs": [],
   "source": [
    "from huggingface_hub import hf_hub_download\n",
    "from datasets import load_dataset, Dataset\n",
    "from typer import Typer\n",
    "from trl import SFTTrainer, DataCollatorForCompletionOnlyLM\n",
    "from pathlib import Path\n",
    "from transformers import AutoTokenizer, AutoModelForSeq2SeqLM, AutoModelForCausalLM\n"
   ]
  },
  {
   "cell_type": "code",
   "execution_count": null,
   "metadata": {},
   "outputs": [],
   "source": [
    "# model_name = 'TinyLlama/TinyLlama-1.1B-Chat-v1.0'\n",
    "model_name = \"TheBloke/TinyLlama-1.1B-Chat-v1.0-GGUF\"\n",
    "model_file = \"tinyllama-1.1b-chat-v1.0.Q8_0.gguf\"\n",
    "dataset_id = \"b-mc2/sql-create-context\"\n",
    "\n",
    "model_path = hf_hub_download(model_name, filename=model_file)\n",
    "print(f\"Model downloaded to {model_path}\")\n",
    "# print the file size using pathlib\n",
    "print(f\"File size: {Path(model_path).stat().st_size / (1024*1024):.2f} MB\")\n"
   ]
  },
  {
   "cell_type": "code",
   "execution_count": null,
   "metadata": {},
   "outputs": [],
   "source": [
    "data = load_dataset(dataset_id, split='train')\n",
    "df = data.to_pandas()\n",
    "\n",
    "def get_prompt(context, question, answer='', add_gen_prompt=True):\n",
    "    gen_prompt = \"<|answer|>: {answer}\"\n",
    "    template = '''\n",
    "<|context|>: {context}\n",
    "<|question|>: {question}'''\n",
    "    if add_gen_prompt:\n",
    "        template += gen_prompt\n",
    "    return template.format(context=context, question=question, answer=answer)\n",
    "\n",
    "df['text'] = df.apply(lambda x: get_prompt(x['context'], x['question'], x['answer'], add_gen_prompt=True), axis=1)\n",
    "dataset = Dataset.from_pandas(df)\n"
   ]
  },
  {
   "cell_type": "code",
   "execution_count": null,
   "metadata": {},
   "outputs": [],
   "source": [
    "model_id = \"TinyLlama/TinyLlama-1.1B-Chat-v1.0\"\n",
    "tokenizer = AutoTokenizer.from_pretrained(model_id)"
   ]
  },
  {
   "cell_type": "code",
   "execution_count": null,
   "metadata": {},
   "outputs": [],
   "source": [
    "from peft import LoraConfig, PeftConfig\n",
    "peft_config = LoraConfig(\n",
    "    r=16,\n",
    "    lora_alpha=32,\n",
    "    lora_dropout=0.05,\n",
    "    bias=\"none\",\n",
    "    task_type=\"CAUSAL_LM\",\n",
    ")\n",
    "trainer = SFTTrainer(model_id, train_dataset=dataset, tokenizer=tokenizer, dataset_text_field=\"text\", packing=False, \n",
    "                     peft_config=peft_config)\n",
    "trainer.train()"
   ]
  },
  {
   "cell_type": "code",
   "execution_count": null,
   "metadata": {},
   "outputs": [],
   "source": []
  }
 ],
 "metadata": {
  "kernelspec": {
   "display_name": "Python 3",
   "language": "python",
   "name": "python3"
  },
  "language_info": {
   "codemirror_mode": {
    "name": "ipython",
    "version": 3
   },
   "file_extension": ".py",
   "mimetype": "text/x-python",
   "name": "python",
   "nbconvert_exporter": "python",
   "pygments_lexer": "ipython3",
   "version": "3.11.8"
  }
 },
 "nbformat": 4,
 "nbformat_minor": 2
}
