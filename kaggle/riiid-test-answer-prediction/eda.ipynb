{
 "cells": [
  {
   "cell_type": "code",
   "execution_count": 15,
   "metadata": {},
   "outputs": [],
   "source": [
    "import cudf\n",
    "import pandas as pd\n",
    "\n",
    "import matplotlib.pyplot as plt\n",
    "import seaborn as sns\n",
    "import numpy as np\n",
    "import os\n",
    "\n",
    "from pathlib import Path\n",
    "from sklearn.base import TransformerMixin"
   ]
  },
  {
   "cell_type": "markdown",
   "metadata": {},
   "source": [
    "### Read data"
   ]
  },
  {
   "cell_type": "code",
   "execution_count": 5,
   "metadata": {},
   "outputs": [
    {
     "name": "stdout",
     "output_type": "stream",
     "text": [
      "total 6.9G\r\n",
      "-rw-rw-r-- 1 1000 1000 290K Oct 14 17:45 questions.csv\r\n",
      "-rw-rw-r-- 1 1000 1000 9.5K Oct 14 17:45 lectures.csv\r\n",
      "-rw-rw-r-- 1 1000 1000 6.0K Oct 14 17:45 example_test.csv\r\n",
      "-rw-rw-r-- 1 1000 1000  971 Oct 14 17:45 example_sample_submission.csv\r\n",
      "-rw-rw-r-- 1 1000 1000 5.5G Oct 14 17:46 train.csv\r\n",
      "-rw-rw-r-- 1 1000 1000 1.5G Dec 18 12:43 train.pq\r\n"
     ]
    }
   ],
   "source": [
    "base_dir = Path('/rapids/ml')\n",
    "data_dir = base_dir/'data/kaggle/riiideducation/'\n",
    "!ls -lrth $data_dir"
   ]
  },
  {
   "cell_type": "code",
   "execution_count": 6,
   "metadata": {},
   "outputs": [
    {
     "name": "stdout",
     "output_type": "stream",
     "text": [
      "CPU times: user 2 µs, sys: 2 µs, total: 4 µs\n",
      "Wall time: 7.15 µs\n",
      "/rapids/ml/data/kaggle/riiideducation/train.pq exists\n"
     ]
    }
   ],
   "source": [
    "%time\n",
    "train_csv_path = data_dir/'train.csv'\n",
    "train_pq_path = data_dir/'train.pq'\n",
    "\n",
    "# parquet saves data types and also reduces disk space. Create it if not exists.\n",
    "if train_pq_path.is_file():\n",
    "    print(f'{train_pq_path} exists')\n",
    "else:\n",
    "    print(f'training file {train_pq_path} does not exist. Creating...')\n",
    "    train_df = cudf.read_csv((data_dir/'train.csv').as_posix(),\n",
    "                       dtype={'row_id': 'int64', 'timestamp': 'int64', 'user_id': 'int32', 'content_id': 'int16', 'content_type_id': 'int8',\n",
    "                              'task_container_id': 'int16', 'user_answer': 'int8', 'answered_correctly': 'int8', 'prior_question_elapsed_time': 'float32', \n",
    "                             'prior_question_had_explanation': 'boolean',\n",
    "                             }\n",
    "                      )\n",
    "    train_df.to_parquet(train_pq_path)       "
   ]
  },
  {
   "cell_type": "code",
   "execution_count": 7,
   "metadata": {},
   "outputs": [
    {
     "name": "stdout",
     "output_type": "stream",
     "text": [
      "train_df.shape - (101230332, 10)\n"
     ]
    },
    {
     "data": {
      "text/html": [
       "<div>\n",
       "<style scoped>\n",
       "    .dataframe tbody tr th:only-of-type {\n",
       "        vertical-align: middle;\n",
       "    }\n",
       "\n",
       "    .dataframe tbody tr th {\n",
       "        vertical-align: top;\n",
       "    }\n",
       "\n",
       "    .dataframe thead th {\n",
       "        text-align: right;\n",
       "    }\n",
       "</style>\n",
       "<table border=\"1\" class=\"dataframe\">\n",
       "  <thead>\n",
       "    <tr style=\"text-align: right;\">\n",
       "      <th></th>\n",
       "      <th>row_id</th>\n",
       "      <th>timestamp</th>\n",
       "      <th>user_id</th>\n",
       "      <th>content_id</th>\n",
       "      <th>content_type_id</th>\n",
       "      <th>task_container_id</th>\n",
       "      <th>user_answer</th>\n",
       "      <th>answered_correctly</th>\n",
       "      <th>prior_question_elapsed_time</th>\n",
       "      <th>prior_question_had_explanation</th>\n",
       "    </tr>\n",
       "  </thead>\n",
       "  <tbody>\n",
       "    <tr>\n",
       "      <th>0</th>\n",
       "      <td>0</td>\n",
       "      <td>0</td>\n",
       "      <td>115</td>\n",
       "      <td>5692</td>\n",
       "      <td>0</td>\n",
       "      <td>1</td>\n",
       "      <td>3</td>\n",
       "      <td>1</td>\n",
       "      <td>&lt;NA&gt;</td>\n",
       "      <td>&lt;NA&gt;</td>\n",
       "    </tr>\n",
       "    <tr>\n",
       "      <th>1</th>\n",
       "      <td>1</td>\n",
       "      <td>56943</td>\n",
       "      <td>115</td>\n",
       "      <td>5716</td>\n",
       "      <td>0</td>\n",
       "      <td>2</td>\n",
       "      <td>2</td>\n",
       "      <td>1</td>\n",
       "      <td>37000.0</td>\n",
       "      <td>False</td>\n",
       "    </tr>\n",
       "    <tr>\n",
       "      <th>2</th>\n",
       "      <td>2</td>\n",
       "      <td>118363</td>\n",
       "      <td>115</td>\n",
       "      <td>128</td>\n",
       "      <td>0</td>\n",
       "      <td>0</td>\n",
       "      <td>0</td>\n",
       "      <td>1</td>\n",
       "      <td>55000.0</td>\n",
       "      <td>False</td>\n",
       "    </tr>\n",
       "  </tbody>\n",
       "</table>\n",
       "</div>"
      ],
      "text/plain": [
       "   row_id  timestamp  user_id  content_id  content_type_id  task_container_id  \\\n",
       "0       0          0      115        5692                0                  1   \n",
       "1       1      56943      115        5716                0                  2   \n",
       "2       2     118363      115         128                0                  0   \n",
       "\n",
       "   user_answer  answered_correctly prior_question_elapsed_time  \\\n",
       "0            3                   1                        <NA>   \n",
       "1            2                   1                     37000.0   \n",
       "2            0                   1                     55000.0   \n",
       "\n",
       "  prior_question_had_explanation  \n",
       "0                           <NA>  \n",
       "1                          False  \n",
       "2                          False  "
      ]
     },
     "execution_count": 7,
     "metadata": {},
     "output_type": "execute_result"
    }
   ],
   "source": [
    "# read training data\n",
    "train_df = cudf.read_parquet(train_pq_path); print(f'train_df.shape - {train_df.shape}')\n",
    "train_df.head(3)"
   ]
  },
  {
   "cell_type": "code",
   "execution_count": 8,
   "metadata": {},
   "outputs": [
    {
     "name": "stdout",
     "output_type": "stream",
     "text": [
      "CPU times: user 2 µs, sys: 2 µs, total: 4 µs\n",
      "Wall time: 9.06 µs\n",
      "qustions.shape - (13523, 5)\n",
      "lectures.shape - (418, 4)\n"
     ]
    }
   ],
   "source": [
    "%time\n",
    "questions_df = cudf.read_csv((data_dir/'questions.csv').as_posix())\n",
    "lectures_df = cudf.read_csv((data_dir/'lectures.csv').as_posix())\n",
    "example_test = cudf.read_csv((data_dir/'example_test.csv').as_posix())\n",
    "\n",
    "print(f'qustions.shape - {questions_df.shape}')\n",
    "print(f'lectures.shape - {lectures_df.shape}')"
   ]
  },
  {
   "cell_type": "code",
   "execution_count": 9,
   "metadata": {},
   "outputs": [
    {
     "data": {
      "text/html": [
       "<div>\n",
       "<style scoped>\n",
       "    .dataframe tbody tr th:only-of-type {\n",
       "        vertical-align: middle;\n",
       "    }\n",
       "\n",
       "    .dataframe tbody tr th {\n",
       "        vertical-align: top;\n",
       "    }\n",
       "\n",
       "    .dataframe thead th {\n",
       "        text-align: right;\n",
       "    }\n",
       "</style>\n",
       "<table border=\"1\" class=\"dataframe\">\n",
       "  <thead>\n",
       "    <tr style=\"text-align: right;\">\n",
       "      <th></th>\n",
       "      <th>question_id</th>\n",
       "      <th>bundle_id</th>\n",
       "      <th>correct_answer</th>\n",
       "      <th>part</th>\n",
       "      <th>tags</th>\n",
       "    </tr>\n",
       "  </thead>\n",
       "  <tbody>\n",
       "    <tr>\n",
       "      <th>0</th>\n",
       "      <td>0</td>\n",
       "      <td>0</td>\n",
       "      <td>0</td>\n",
       "      <td>1</td>\n",
       "      <td>51 131 162 38</td>\n",
       "    </tr>\n",
       "    <tr>\n",
       "      <th>1</th>\n",
       "      <td>1</td>\n",
       "      <td>1</td>\n",
       "      <td>1</td>\n",
       "      <td>1</td>\n",
       "      <td>131 36 81</td>\n",
       "    </tr>\n",
       "    <tr>\n",
       "      <th>2</th>\n",
       "      <td>2</td>\n",
       "      <td>2</td>\n",
       "      <td>0</td>\n",
       "      <td>1</td>\n",
       "      <td>131 101 162 92</td>\n",
       "    </tr>\n",
       "  </tbody>\n",
       "</table>\n",
       "</div>"
      ],
      "text/plain": [
       "   question_id  bundle_id  correct_answer  part            tags\n",
       "0            0          0               0     1   51 131 162 38\n",
       "1            1          1               1     1       131 36 81\n",
       "2            2          2               0     1  131 101 162 92"
      ]
     },
     "execution_count": 9,
     "metadata": {},
     "output_type": "execute_result"
    }
   ],
   "source": [
    "questions_df.head(3)"
   ]
  },
  {
   "cell_type": "code",
   "execution_count": 10,
   "metadata": {},
   "outputs": [
    {
     "data": {
      "text/html": [
       "<div>\n",
       "<style scoped>\n",
       "    .dataframe tbody tr th:only-of-type {\n",
       "        vertical-align: middle;\n",
       "    }\n",
       "\n",
       "    .dataframe tbody tr th {\n",
       "        vertical-align: top;\n",
       "    }\n",
       "\n",
       "    .dataframe thead th {\n",
       "        text-align: right;\n",
       "    }\n",
       "</style>\n",
       "<table border=\"1\" class=\"dataframe\">\n",
       "  <thead>\n",
       "    <tr style=\"text-align: right;\">\n",
       "      <th></th>\n",
       "      <th>lecture_id</th>\n",
       "      <th>tag</th>\n",
       "      <th>part</th>\n",
       "      <th>type_of</th>\n",
       "    </tr>\n",
       "  </thead>\n",
       "  <tbody>\n",
       "    <tr>\n",
       "      <th>0</th>\n",
       "      <td>89</td>\n",
       "      <td>159</td>\n",
       "      <td>5</td>\n",
       "      <td>concept</td>\n",
       "    </tr>\n",
       "    <tr>\n",
       "      <th>1</th>\n",
       "      <td>100</td>\n",
       "      <td>70</td>\n",
       "      <td>1</td>\n",
       "      <td>concept</td>\n",
       "    </tr>\n",
       "    <tr>\n",
       "      <th>2</th>\n",
       "      <td>185</td>\n",
       "      <td>45</td>\n",
       "      <td>6</td>\n",
       "      <td>concept</td>\n",
       "    </tr>\n",
       "  </tbody>\n",
       "</table>\n",
       "</div>"
      ],
      "text/plain": [
       "   lecture_id  tag  part  type_of\n",
       "0          89  159     5  concept\n",
       "1         100   70     1  concept\n",
       "2         185   45     6  concept"
      ]
     },
     "execution_count": 10,
     "metadata": {},
     "output_type": "execute_result"
    }
   ],
   "source": [
    "lectures_df.head(3)"
   ]
  },
  {
   "cell_type": "code",
   "execution_count": 11,
   "metadata": {},
   "outputs": [
    {
     "data": {
      "text/html": [
       "<div>\n",
       "<style scoped>\n",
       "    .dataframe tbody tr th:only-of-type {\n",
       "        vertical-align: middle;\n",
       "    }\n",
       "\n",
       "    .dataframe tbody tr th {\n",
       "        vertical-align: top;\n",
       "    }\n",
       "\n",
       "    .dataframe thead th {\n",
       "        text-align: right;\n",
       "    }\n",
       "</style>\n",
       "<table border=\"1\" class=\"dataframe\">\n",
       "  <thead>\n",
       "    <tr style=\"text-align: right;\">\n",
       "      <th></th>\n",
       "      <th>row_id</th>\n",
       "      <th>group_num</th>\n",
       "      <th>timestamp</th>\n",
       "      <th>user_id</th>\n",
       "      <th>content_id</th>\n",
       "      <th>content_type_id</th>\n",
       "      <th>task_container_id</th>\n",
       "      <th>prior_question_elapsed_time</th>\n",
       "      <th>prior_question_had_explanation</th>\n",
       "      <th>prior_group_answers_correct</th>\n",
       "      <th>prior_group_responses</th>\n",
       "    </tr>\n",
       "  </thead>\n",
       "  <tbody>\n",
       "    <tr>\n",
       "      <th>0</th>\n",
       "      <td>0</td>\n",
       "      <td>0</td>\n",
       "      <td>0</td>\n",
       "      <td>275030867</td>\n",
       "      <td>5729</td>\n",
       "      <td>0</td>\n",
       "      <td>0</td>\n",
       "      <td>&lt;NA&gt;</td>\n",
       "      <td>&lt;NA&gt;</td>\n",
       "      <td>[]</td>\n",
       "      <td>[]</td>\n",
       "    </tr>\n",
       "    <tr>\n",
       "      <th>1</th>\n",
       "      <td>1</td>\n",
       "      <td>0</td>\n",
       "      <td>13309898705</td>\n",
       "      <td>554169193</td>\n",
       "      <td>12010</td>\n",
       "      <td>0</td>\n",
       "      <td>4427</td>\n",
       "      <td>19000.0</td>\n",
       "      <td>True</td>\n",
       "      <td>&lt;NA&gt;</td>\n",
       "      <td>&lt;NA&gt;</td>\n",
       "    </tr>\n",
       "    <tr>\n",
       "      <th>2</th>\n",
       "      <td>2</td>\n",
       "      <td>0</td>\n",
       "      <td>4213672059</td>\n",
       "      <td>1720860329</td>\n",
       "      <td>457</td>\n",
       "      <td>0</td>\n",
       "      <td>240</td>\n",
       "      <td>17000.0</td>\n",
       "      <td>True</td>\n",
       "      <td>&lt;NA&gt;</td>\n",
       "      <td>&lt;NA&gt;</td>\n",
       "    </tr>\n",
       "  </tbody>\n",
       "</table>\n",
       "</div>"
      ],
      "text/plain": [
       "   row_id  group_num    timestamp     user_id  content_id  content_type_id  \\\n",
       "0       0          0            0   275030867        5729                0   \n",
       "1       1          0  13309898705   554169193       12010                0   \n",
       "2       2          0   4213672059  1720860329         457                0   \n",
       "\n",
       "   task_container_id prior_question_elapsed_time  \\\n",
       "0                  0                        <NA>   \n",
       "1               4427                     19000.0   \n",
       "2                240                     17000.0   \n",
       "\n",
       "  prior_question_had_explanation prior_group_answers_correct  \\\n",
       "0                           <NA>                          []   \n",
       "1                           True                        <NA>   \n",
       "2                           True                        <NA>   \n",
       "\n",
       "  prior_group_responses  \n",
       "0                    []  \n",
       "1                  <NA>  \n",
       "2                  <NA>  "
      ]
     },
     "execution_count": 11,
     "metadata": {},
     "output_type": "execute_result"
    }
   ],
   "source": [
    "example_test.head(3)"
   ]
  },
  {
   "cell_type": "code",
   "execution_count": 12,
   "metadata": {},
   "outputs": [
    {
     "name": "stdout",
     "output_type": "stream",
     "text": [
      "Number of unique users \t\t- 393656\n",
      "Number of unique content ids \t- 13782\n",
      "Number of unique content types\t- 2\n",
      "prior_question_elapsed_time.mean() \t- 25423.810042960275\n",
      "num_rows per user \t - 257.1542971528441\n"
     ]
    }
   ],
   "source": [
    "print(f'Number of unique users \\t\\t- {train_df.user_id.nunique()}')\n",
    "print(f'Number of unique content ids \\t- {train_df.content_id.nunique()}')\n",
    "print(f'Number of unique content types\\t- {train_df.content_type_id.nunique()}')\n",
    "print(f'prior_question_elapsed_time.mean() \\t- {train_df.prior_question_elapsed_time.mean()}')\n",
    "print(f'num_rows per user \\t - {train_df.shape[0]/train_df.user_id.nunique()}')"
   ]
  },
  {
   "cell_type": "code",
   "execution_count": 13,
   "metadata": {},
   "outputs": [],
   "source": [
    "train_df.prior_question_elapsed_time.fillna(0, inplace=True)"
   ]
  },
  {
   "cell_type": "markdown",
   "metadata": {},
   "source": [
    "## Preprocessing"
   ]
  },
  {
   "cell_type": "code",
   "execution_count": 16,
   "metadata": {},
   "outputs": [],
   "source": [
    "class Preprocess(TransformerMixin):\n",
    "    def __init__(self, questions_df, lectures_df):\n",
    "        self.questions_df = questions_df\n",
    "        self.lectures_df = lectures_df\n",
    "    \n",
    "    def fit(self, df):\n",
    "        return self\n",
    "    \n",
    "    def transform(self, df):\n",
    "        df = df.merge(self.questions_df, left_on='content_id',right_on='question_id', how='left')\\\n",
    "                .merge(self.lectures_df, left_on='content_id',right_on='lecture_id', how='left')\n",
    "\n",
    "        # fill nulls\n",
    "        df.type_of.fillna('', inplace=True)\n",
    "        df.part_y.fillna(0, inplace=True)\n",
    "        df.part_x.fillna(0, inplace=True)\n",
    "        df.correct_answer.fillna(-1, inplace=True)\n",
    "        df.question_id.fillna(-99, inplace=True)\n",
    "        df.bundle_id.fillna(-99, inplace=True)\n",
    "        df.lecture_id.fillna(-100, inplace=True)\n",
    "        df.tag.fillna(-99, inplace=True)\n",
    "\n",
    "        df.prior_question_had_explanation = train2.prior_question_had_explanation.astype(np.int8)\n",
    "        df.prior_question_had_explanation.fillna(-1, inplace=True)  \n",
    "        return df"
   ]
  },
  {
   "cell_type": "code",
   "execution_count": 14,
   "metadata": {},
   "outputs": [],
   "source": [
    "#         train2 = train_df.merge(questions_df, left_on='content_id',right_on='question_id', how='left')\\\n",
    "#                 .merge(lectures_df, left_on='content_id',right_on='lecture_id', how='left')\n",
    "\n",
    "#         # fill nulls\n",
    "#         train2.type_of.fillna('', inplace=True)\n",
    "#         train2.part_y.fillna(0, inplace=True)\n",
    "#         train2.part_x.fillna(0, inplace=True)\n",
    "#         train2.correct_answer.fillna(-1, inplace=True)\n",
    "#         train2.question_id.fillna(-99, inplace=True)\n",
    "#         train2.bundle_id.fillna(-99, inplace=True)\n",
    "#         train2.lecture_id.fillna(-100, inplace=True)\n",
    "#         train2.tag.fillna(-99, inplace=True)\n",
    "\n",
    "#         train2.prior_question_had_explanation = train2.prior_question_had_explanation.astype(np.int8)\n",
    "#         train2.prior_question_had_explanation.fillna(-1, inplace=True) "
   ]
  },
  {
   "cell_type": "code",
   "execution_count": 12,
   "metadata": {},
   "outputs": [
    {
     "data": {
      "text/plain": [
       "row_id                                  0\n",
       "timestamp                               0\n",
       "user_id                                 0\n",
       "content_id                              0\n",
       "content_type_id                         0\n",
       "task_container_id                       0\n",
       "user_answer                             0\n",
       "answered_correctly                      0\n",
       "prior_question_elapsed_time             0\n",
       "prior_question_had_explanation          0\n",
       "question_id                             0\n",
       "bundle_id                               0\n",
       "correct_answer                          0\n",
       "part_x                                  0\n",
       "tags                              1191808\n",
       "lecture_id                              0\n",
       "tag                                     0\n",
       "part_y                                  0\n",
       "type_of                                 0\n",
       "dtype: uint64"
      ]
     },
     "execution_count": 12,
     "metadata": {},
     "output_type": "execute_result"
    }
   ],
   "source": [
    "train2.isna().sum(axis=0)"
   ]
  },
  {
   "cell_type": "code",
   "execution_count": 26,
   "metadata": {},
   "outputs": [],
   "source": [
    "cont_cols = ['timestamp','prior_question_elapsed_time']\n",
    "cat_cols = ['user_id','content_id', 'content_type_id', 'task_container_id', 'user_answer',\n",
    "           'prior_question_had_explanation', 'question_id', 'bundle_id', 'correct_answer',\n",
    "           'lecture_id','tag']\n",
    "target = 'answered_correctly'"
   ]
  },
  {
   "cell_type": "code",
   "execution_count": null,
   "metadata": {},
   "outputs": [],
   "source": [
    "train2.prior_question_had_explanation = train2.prior_question_had_explanation.astype(np.int8)"
   ]
  },
  {
   "cell_type": "markdown",
   "metadata": {},
   "source": [
    "## Training\n",
    "### Random Forest"
   ]
  },
  {
   "cell_type": "code",
   "execution_count": 19,
   "metadata": {},
   "outputs": [],
   "source": [
    "import numpy as np\n",
    "from cuml.ensemble import RandomForestClassifier as cuRFC\n",
    "\n",
    "train2_df = Preprocess(questions_df, lectures_df).fit_transform(train_df)"
   ]
  },
  {
   "cell_type": "code",
   "execution_count": 27,
   "metadata": {},
   "outputs": [
    {
     "ename": "ValueError",
     "evalue": "The labels need to be consecutive values from 0 to the number of unique label values",
     "output_type": "error",
     "traceback": [
      "\u001b[0;31m---------------------------------------------------------------------------\u001b[0m",
      "\u001b[0;31mValueError\u001b[0m                                Traceback (most recent call last)",
      "\u001b[0;32m<ipython-input-27-bb5d550aed10>\u001b[0m in \u001b[0;36m<module>\u001b[0;34m\u001b[0m\n\u001b[1;32m      1\u001b[0m \u001b[0mmodel\u001b[0m \u001b[0;34m=\u001b[0m \u001b[0mcuRFC\u001b[0m\u001b[0;34m(\u001b[0m\u001b[0;34m)\u001b[0m\u001b[0;34m\u001b[0m\u001b[0;34m\u001b[0m\u001b[0m\n\u001b[0;32m----> 2\u001b[0;31m \u001b[0mmodel\u001b[0m\u001b[0;34m.\u001b[0m\u001b[0mfit\u001b[0m\u001b[0;34m(\u001b[0m\u001b[0mtrain2_df\u001b[0m\u001b[0;34m[\u001b[0m\u001b[0mcat_cols\u001b[0m \u001b[0;34m+\u001b[0m \u001b[0mcont_cols\u001b[0m\u001b[0;34m]\u001b[0m\u001b[0;34m,\u001b[0m \u001b[0mtrain2_df\u001b[0m\u001b[0;34m[\u001b[0m\u001b[0mtarget\u001b[0m\u001b[0;34m]\u001b[0m\u001b[0;34m)\u001b[0m\u001b[0;34m\u001b[0m\u001b[0;34m\u001b[0m\u001b[0m\n\u001b[0m",
      "\u001b[0;32m/opt/conda/envs/rapids/lib/python3.7/site-packages/cuml/internals/api_decorators.py\u001b[0m in \u001b[0;36minner_with_setters\u001b[0;34m(*args, **kwargs)\u001b[0m\n\u001b[1;32m    408\u001b[0m                                 target_val=target_val)\n\u001b[1;32m    409\u001b[0m \u001b[0;34m\u001b[0m\u001b[0m\n\u001b[0;32m--> 410\u001b[0;31m                 \u001b[0;32mreturn\u001b[0m \u001b[0mfunc\u001b[0m\u001b[0;34m(\u001b[0m\u001b[0;34m*\u001b[0m\u001b[0margs\u001b[0m\u001b[0;34m,\u001b[0m \u001b[0;34m**\u001b[0m\u001b[0mkwargs\u001b[0m\u001b[0;34m)\u001b[0m\u001b[0;34m\u001b[0m\u001b[0;34m\u001b[0m\u001b[0m\n\u001b[0m\u001b[1;32m    411\u001b[0m \u001b[0;34m\u001b[0m\u001b[0m\n\u001b[1;32m    412\u001b[0m         \u001b[0;34m@\u001b[0m\u001b[0mwraps\u001b[0m\u001b[0;34m(\u001b[0m\u001b[0mfunc\u001b[0m\u001b[0;34m)\u001b[0m\u001b[0;34m\u001b[0m\u001b[0;34m\u001b[0m\u001b[0m\n",
      "\u001b[0;32mcuml/ensemble/randomforestclassifier.pyx\u001b[0m in \u001b[0;36mcuml.ensemble.randomforestclassifier.RandomForestClassifier.fit\u001b[0;34m()\u001b[0m\n",
      "\u001b[0;32m/opt/conda/envs/rapids/lib/python3.7/site-packages/cuml/internals/api_decorators.py\u001b[0m in \u001b[0;36minner_set\u001b[0;34m(*args, **kwargs)\u001b[0m\n\u001b[1;32m    566\u001b[0m \u001b[0;34m\u001b[0m\u001b[0m\n\u001b[1;32m    567\u001b[0m                 \u001b[0;31m# Call the function\u001b[0m\u001b[0;34m\u001b[0m\u001b[0;34m\u001b[0m\u001b[0;34m\u001b[0m\u001b[0m\n\u001b[0;32m--> 568\u001b[0;31m                 \u001b[0mret_val\u001b[0m \u001b[0;34m=\u001b[0m \u001b[0mfunc\u001b[0m\u001b[0;34m(\u001b[0m\u001b[0;34m*\u001b[0m\u001b[0margs\u001b[0m\u001b[0;34m,\u001b[0m \u001b[0;34m**\u001b[0m\u001b[0mkwargs\u001b[0m\u001b[0;34m)\u001b[0m\u001b[0;34m\u001b[0m\u001b[0;34m\u001b[0m\u001b[0m\n\u001b[0m\u001b[1;32m    569\u001b[0m \u001b[0;34m\u001b[0m\u001b[0m\n\u001b[1;32m    570\u001b[0m             \u001b[0;32mreturn\u001b[0m \u001b[0mcm\u001b[0m\u001b[0;34m.\u001b[0m\u001b[0mprocess_return\u001b[0m\u001b[0;34m(\u001b[0m\u001b[0mret_val\u001b[0m\u001b[0;34m)\u001b[0m\u001b[0;34m\u001b[0m\u001b[0;34m\u001b[0m\u001b[0m\n",
      "\u001b[0;32mcuml/ensemble/randomforest_common.pyx\u001b[0m in \u001b[0;36mcuml.ensemble.randomforest_common.BaseRandomForestModel._dataset_setup_for_fit\u001b[0;34m()\u001b[0m\n",
      "\u001b[0;31mValueError\u001b[0m: The labels need to be consecutive values from 0 to the number of unique label values"
     ]
    }
   ],
   "source": [
    "model = cuRFC()\n",
    "model.fit(train2_df[cat_cols + cont_cols], train2_df[target])"
   ]
  },
  {
   "cell_type": "code",
   "execution_count": 30,
   "metadata": {},
   "outputs": [
    {
     "data": {
      "text/plain": [
       " 1    65244627\n",
       " 0    34026673\n",
       "-1     1959032\n",
       "Name: answered_correctly, dtype: int32"
      ]
     },
     "execution_count": 30,
     "metadata": {},
     "output_type": "execute_result"
    }
   ],
   "source": [
    "train2_df[target].value_counts()"
   ]
  },
  {
   "cell_type": "code",
   "execution_count": null,
   "metadata": {},
   "outputs": [],
   "source": []
  },
  {
   "cell_type": "markdown",
   "metadata": {},
   "source": [
    "### Neural Network"
   ]
  },
  {
   "cell_type": "code",
   "execution_count": null,
   "metadata": {},
   "outputs": [],
   "source": [
    "train_df.shape[0]"
   ]
  },
  {
   "cell_type": "code",
   "execution_count": null,
   "metadata": {},
   "outputs": [],
   "source": [
    "import torch\n",
    "import torch.nn as nn\n",
    "import torch.nn.functional as F\n",
    "import pytorch_lightning as pl"
   ]
  },
  {
   "cell_type": "code",
   "execution_count": null,
   "metadata": {},
   "outputs": [],
   "source": [
    "class EduModel(pl.LightningModule):\n",
    "    def __init__(hparams, *args, **kwargs):\n",
    "        pass\n",
    "    \n",
    "    def forward"
   ]
  }
 ],
 "metadata": {
  "kernelspec": {
   "display_name": "Python 3",
   "language": "python",
   "name": "python3"
  },
  "language_info": {
   "codemirror_mode": {
    "name": "ipython",
    "version": 3
   },
   "file_extension": ".py",
   "mimetype": "text/x-python",
   "name": "python",
   "nbconvert_exporter": "python",
   "pygments_lexer": "ipython3",
   "version": "3.7.8"
  }
 },
 "nbformat": 4,
 "nbformat_minor": 4
}
